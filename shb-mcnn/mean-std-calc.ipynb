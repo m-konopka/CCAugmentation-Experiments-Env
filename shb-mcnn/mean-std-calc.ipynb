{
 "cells": [
  {
   "cell_type": "markdown",
   "metadata": {},
   "source": [
    "## Parameters for featurewise standarization"
   ]
  },
  {
   "cell_type": "code",
   "execution_count": 1,
   "metadata": {},
   "outputs": [],
   "source": [
    "import CCAugmentation as cca\n",
    "from datasets.SHHB.setting import cfg_data\n",
    "from load_data import CustomDataset\n",
    "import CCAugmentation.transformations as ccat\n",
    "import numpy as np\n",
    "from tqdm import tqdm_notebook\n",
    "import tqdm"
   ]
  },
  {
   "cell_type": "code",
   "execution_count": 2,
   "metadata": {},
   "outputs": [
    {
     "name": "stderr",
     "output_type": "stream",
     "text": [
      "100%|█████████▉| 399/400 [00:06<00:00, 67.14it/s]"
     ]
    }
   ],
   "source": [
    "imgs, _ = cca.Pipeline(\n",
    "        cca.examples.loading.SHHLoader(\"/dataset/ShanghaiTech\", \"train\", \"B\"), [\n",
    "            ccat.Normalize(\"range_0_to_1\")\n",
    "        ]\n",
    "    ).execute_collect()"
   ]
  },
  {
   "cell_type": "code",
   "execution_count": 3,
   "metadata": {},
   "outputs": [
    {
     "name": "stdout",
     "output_type": "stream",
     "text": [
      "0.44337569764081153\n",
      "0.2312020086228266\n"
     ]
    },
    {
     "name": "stderr",
     "output_type": "stream",
     "text": [
      "100%|██████████| 400/400 [00:19<00:00, 67.14it/s]"
     ]
    },
    {
     "name": "stdout",
     "output_type": "stream",
     "text": [
      "[0.43153972 0.44694245 0.45164492]\n",
      "[0.22612214 0.22956612 0.23729746]\n"
     ]
    }
   ],
   "source": [
    "print(np.mean(imgs))\n",
    "print(np.std(imgs))\n",
    "print(np.mean(imgs, (0, 1, 2)))\n",
    "print(np.std(imgs, (0, 1, 2)))"
   ]
  },
  {
   "cell_type": "code",
   "execution_count": 4,
   "metadata": {
    "collapsed": true,
    "jupyter": {
     "outputs_hidden": true
    }
   },
   "outputs": [
    {
     "name": "stderr",
     "output_type": "stream",
     "text": [
      "\n",
      "  0%|          | 0/400 [00:00<?, ?it/s]\u001b[A\n",
      "  2%|▎         | 10/400 [00:00<00:04, 95.36it/s]\u001b[A\n",
      "  5%|▌         | 20/400 [00:00<00:03, 96.03it/s]\u001b[A\n",
      "  8%|▊         | 30/400 [00:00<00:03, 95.63it/s]\u001b[A\n",
      " 10%|█         | 40/400 [00:00<00:03, 95.70it/s]\u001b[A\n",
      " 12%|█▎        | 50/400 [00:00<00:03, 96.27it/s]\u001b[A\n",
      " 15%|█▌        | 60/400 [00:00<00:03, 95.05it/s]\u001b[A\n",
      " 18%|█▊        | 70/400 [00:00<00:03, 95.44it/s]\u001b[A\n",
      " 20%|██        | 80/400 [00:00<00:03, 95.00it/s]\u001b[A\n",
      " 22%|██▎       | 90/400 [00:00<00:03, 94.81it/s]\u001b[A\n",
      " 25%|██▌       | 100/400 [00:01<00:03, 94.77it/s]\u001b[A\n",
      " 28%|██▊       | 110/400 [00:01<00:03, 92.95it/s]\u001b[A\n",
      " 30%|███       | 120/400 [00:01<00:02, 93.57it/s]\u001b[A\n",
      " 32%|███▎      | 130/400 [00:01<00:02, 94.53it/s]\u001b[A\n",
      " 35%|███▌      | 140/400 [00:01<00:02, 93.39it/s]\u001b[A\n",
      " 38%|███▊      | 150/400 [00:01<00:02, 93.84it/s]\u001b[A\n",
      " 40%|████      | 161/400 [00:01<00:02, 95.26it/s]\u001b[A\n",
      " 43%|████▎     | 172/400 [00:01<00:02, 97.07it/s]\u001b[A\n",
      " 46%|████▌     | 182/400 [00:01<00:02, 97.65it/s]\u001b[A\n",
      " 48%|████▊     | 193/400 [00:02<00:02, 98.43it/s]\u001b[A\n",
      " 51%|█████     | 204/400 [00:02<00:01, 98.74it/s]\u001b[A\n",
      " 54%|█████▎    | 214/400 [00:02<00:01, 99.04it/s]\u001b[A\n",
      " 56%|█████▌    | 224/400 [00:02<00:01, 98.80it/s]\u001b[A\n",
      " 58%|█████▊    | 234/400 [00:02<00:01, 97.57it/s]\u001b[A\n",
      " 61%|██████    | 244/400 [00:02<00:01, 98.16it/s]\u001b[A\n",
      " 64%|██████▍   | 255/400 [00:02<00:01, 99.69it/s]\u001b[A\n",
      " 66%|██████▋   | 265/400 [00:02<00:01, 99.31it/s]\u001b[A\n",
      " 69%|██████▉   | 275/400 [00:02<00:01, 99.49it/s]\u001b[A\n",
      " 71%|███████▏  | 285/400 [00:02<00:01, 99.09it/s]\u001b[A\n",
      " 74%|███████▍  | 295/400 [00:03<00:01, 99.22it/s]\u001b[A\n",
      " 76%|███████▋  | 306/400 [00:03<00:00, 100.02it/s]\u001b[A\n",
      " 79%|███████▉  | 317/400 [00:03<00:00, 100.67it/s]\u001b[A\n",
      " 82%|████████▏ | 328/400 [00:03<00:00, 99.84it/s] \u001b[A\n",
      " 85%|████████▍ | 339/400 [00:03<00:00, 99.59it/s]\u001b[A\n",
      " 87%|████████▋ | 349/400 [00:03<00:00, 98.15it/s]\u001b[A\n",
      " 90%|████████▉ | 359/400 [00:03<00:00, 98.64it/s]\u001b[A\n",
      " 92%|█████████▏| 369/400 [00:03<00:00, 97.94it/s]\u001b[A\n",
      " 95%|█████████▌| 380/400 [00:03<00:00, 99.38it/s]\u001b[A\n",
      " 98%|█████████▊| 391/400 [00:04<00:00, 100.86it/s]\u001b[A"
     ]
    }
   ],
   "source": [
    "imgs, _ = cca.Pipeline(\n",
    "        cca.examples.loading.SHHLoader(\"/dataset/ShanghaiTech\", \"train\", \"B\"), [\n",
    "        ]\n",
    "    ).execute_collect()"
   ]
  },
  {
   "cell_type": "code",
   "execution_count": 5,
   "metadata": {},
   "outputs": [
    {
     "name": "stdout",
     "output_type": "stream",
     "text": [
      "113.06080289840698\n",
      "58.956512198820526\n",
      "[110.0426287  113.97032411 115.16945588]\n"
     ]
    },
    {
     "name": "stderr",
     "output_type": "stream",
     "text": [
      "\n",
      "100%|██████████| 400/400 [00:14<00:00, 100.86it/s]\u001b[A"
     ]
    },
    {
     "name": "stdout",
     "output_type": "stream",
     "text": [
      "[57.66114641 58.53936174 60.51085266]\n"
     ]
    }
   ],
   "source": [
    "print(np.mean(imgs))\n",
    "print(np.std(imgs))\n",
    "print(np.mean(imgs, (0, 1, 2)))\n",
    "print(np.std(imgs, (0, 1, 2)))"
   ]
  }
 ],
 "metadata": {
  "kernelspec": {
   "display_name": "Python 3",
   "language": "python",
   "name": "python3"
  },
  "language_info": {
   "codemirror_mode": {
    "name": "ipython",
    "version": 3
   },
   "file_extension": ".py",
   "mimetype": "text/x-python",
   "name": "python",
   "nbconvert_exporter": "python",
   "pygments_lexer": "ipython3",
   "version": "3.8.5"
  }
 },
 "nbformat": 4,
 "nbformat_minor": 4
}
