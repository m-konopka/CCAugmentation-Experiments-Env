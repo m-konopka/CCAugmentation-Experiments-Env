{
 "cells": [
  {
   "cell_type": "code",
   "execution_count": 4,
   "metadata": {},
   "outputs": [],
   "source": [
    "import os\n",
    "import shutil\n",
    "import random\n",
    "from distutils.dir_util import copy_tree\n",
    "from glob import glob\n",
    "import ntpath\n",
    "\n",
    "random.seed(123)\n",
    "percentage = 10 # %size of desired val set"
   ]
  },
  {
   "cell_type": "code",
   "execution_count": 5,
   "metadata": {},
   "outputs": [],
   "source": [
    "ROOT = './ShanghaiTech/part_B/train_data/'\n",
    "gt = os.path.join(ROOT, 'ground-truth/')\n",
    "img = os.path.join(ROOT, 'images/')\n",
    "\n",
    "new_train_gt = './ShanghaiTech_'+str(percentage/100)+'/part_B/train_data/ground-truth'\n",
    "new_train_img = './ShanghaiTech_'+str(percentage/100)+'/part_B/train_data/images'\n",
    "\n",
    "copy_tree(gt, new_train_gt)\n",
    "copy_tree(img, new_train_img)\n",
    "\n",
    "mat = sorted(glob(new_train_gt+'/*.mat'))\n",
    "img = sorted(glob(new_train_img+'/*.jpg'))"
   ]
  },
  {
   "cell_type": "code",
   "execution_count": 6,
   "metadata": {},
   "outputs": [],
   "source": [
    "new_test_gt = './ShanghaiTech_'+str(percentage/100)+'/part_B/test_data/ground-truth'\n",
    "new_test_img = './ShanghaiTech_'+str(percentage/100)+'/part_B/test_data/images'\n",
    "\n",
    "k = len(mat) * percentage // 100\n",
    "indicies = random.sample(range(len(mat)), k)\n",
    "\n",
    "mat_val = [mat[i] for i in indicies]\n",
    "img_val = [img[i] for i in indicies]\n",
    "\n",
    "if not os.path.exists(new_test_gt):\n",
    "    os.makedirs(new_test_gt)\n",
    "    \n",
    "for m in mat_val:\n",
    "    shutil.move(m, os.path.join(new_test_gt, ntpath.basename(m)))\n",
    "    \n",
    "if not os.path.exists(new_test_img):\n",
    "    os.makedirs(new_test_img)\n",
    "    \n",
    "for i in img_val:\n",
    "    shutil.move(i, os.path.join(new_test_img, ntpath.basename(i)))"
   ]
  },
  {
   "cell_type": "code",
   "execution_count": null,
   "metadata": {},
   "outputs": [],
   "source": []
  }
 ],
 "metadata": {
  "kernelspec": {
   "display_name": "Python 3",
   "language": "python",
   "name": "python3"
  },
  "language_info": {
   "codemirror_mode": {
    "name": "ipython",
    "version": 3
   },
   "file_extension": ".py",
   "mimetype": "text/x-python",
   "name": "python",
   "nbconvert_exporter": "python",
   "pygments_lexer": "ipython3",
   "version": "3.8.5"
  }
 },
 "nbformat": 4,
 "nbformat_minor": 4
}
