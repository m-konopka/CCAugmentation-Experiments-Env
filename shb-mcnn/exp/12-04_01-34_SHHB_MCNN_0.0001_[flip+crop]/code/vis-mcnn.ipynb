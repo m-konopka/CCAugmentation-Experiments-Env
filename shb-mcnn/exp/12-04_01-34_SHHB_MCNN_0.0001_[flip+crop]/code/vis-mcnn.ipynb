{
 "cells": [
  {
   "cell_type": "code",
   "execution_count": null,
   "metadata": {},
   "outputs": [],
   "source": [
    "import os\n",
    "import random\n",
    "import torch\n",
    "import torchvision.transforms as standard_transforms\n",
    "import scipy.io as sio\n",
    "import matplotlib\n",
    "import pandas as pd\n",
    "import misc.transforms as own_transforms\n",
    "import warnings\n",
    "\n",
    "from torch.autograd import Variable\n",
    "from torch.utils.data import DataLoader\n",
    "from PIL import Image, ImageOps\n",
    "from matplotlib import pyplot as plt\n",
    "from tqdm import trange, tqdm\n",
    "from misc.utils import *\n",
    "from models.CC import CrowdCounter\n",
    "from config import cfg\n",
    "import CCAugmentation as cca\n",
    "from datasets.SHHB.setting import cfg_data\n",
    "from load_data import CustomDataset\n",
    "import CCAugmentation.transformations as ccat\n",
    "\n",
    "torch.cuda.set_device(0)\n",
    "torch.backends.cudnn.benchmark = True\n",
    "warnings.filterwarnings('ignore')\n",
    "\n",
    "mean_std = ([0.452016860247, 0.447249650955, 0.431981861591],[0.23242045939, 0.224925786257, 0.221840232611])\n",
    "\n",
    "img_transform = standard_transforms.Compose([\n",
    "        standard_transforms.ToTensor(),\n",
    "        standard_transforms.Normalize(*mean_std)\n",
    "    ])\n",
    "restore = standard_transforms.Compose([\n",
    "        own_transforms.DeNormalize(*mean_std),\n",
    "        standard_transforms.ToPILImage()\n",
    "    ])\n",
    "pil_to_tensor = standard_transforms.ToTensor()"
   ]
  },
  {
   "cell_type": "code",
   "execution_count": null,
   "metadata": {},
   "outputs": [],
   "source": [
    "val_pipeline = cca.Pipeline(\n",
    "        cca.examples.loading.SHHLoader(\"/dataset/ShanghaiTech\", \"test\", \"B\"), [\n",
    "            ccat.Normalize(\"featurewise_centering\", by_channel=True, means=[107.39323323, 111.061098,   112.03879525]),\n",
    "            ccat.Normalize(\"featurewise_std_normalization\", by_channel=True, stds=[57.61469767, 58.51149575, 60.53830933])\n",
    "        ]\n",
    "    ).execute_generate()\n",
    "val_loader = DataLoader(CustomDataset(val_pipeline), batch_size=cfg_data.VAL_BATCH_SIZE, num_workers=1, drop_last=False)\n",
    "\n",
    "val_img = list(val_loader)"
   ]
  },
  {
   "cell_type": "code",
   "execution_count": null,
   "metadata": {},
   "outputs": [],
   "source": [
    "# model_path = './exp/11-26_06-00_SHHB_MCNN_0.0001_[noAug]/all_ep_146_mae_23.91_mse_35.70.pth'\n",
    "# model_path = './exp/11-26_06-57_SHHB_MCNN_0.0001_[noAug]/all_ep_175_mae_17.92_mse_26.94.pth'\n",
    "# model_path = './exp/11-26_07-42_SHHB_MCNN_0.0001_[noAug]/all_ep_171_mae_18.16_mse_29.66.pth'\n",
    "# model_path = './exp/11-27_09-59_SHHB_MCNN_0.0001_[flipLR]/all_ep_180_mae_18.34_mse_30.49.pth'\n",
    "# model_path = './exp/11-27_10-44_SHHB_MCNN_0.0001_[flipLR]/all_ep_181_mae_19.11_mse_33.26.pth'\n",
    "# model_path = './exp/11-27_11-30_SHHB_MCNN_0.0001_[flipLR]/all_ep_180_mae_18.16_mse_30.61.pth'\n",
    "# model_path = './exp/11-27_17-48_SHHB_MCNN_0.0001_[crop4]/all_ep_168_mae_17.00_mse_29.09.pth'\n",
    "# model_path = './exp/11-27_18-18_SHHB_MCNN_0.0001_[crop4]/all_ep_168_mae_19.30_mse_35.17.pth'\n",
    "# model_path = './exp/11-27_18-48_SHHB_MCNN_0.0001_[crop4]/all_ep_168_mae_20.61_mse_35.46.pth'\n",
    "# model_path = './exp/11-27_19-34_SHHB_MCNN_0.0001_[crop2]/all_ep_155_mae_22.83_mse_42.29.pth'\n",
    "# model_path = './exp/11-27_20-08_SHHB_MCNN_0.0001_[crop2]/all_ep_155_mae_24.00_mse_44.81.pth'\n",
    "# model_path = './exp/11-27_20-42_SHHB_MCNN_0.0001_[crop2]/all_ep_155_mae_22.42_mse_42.58.pth'\n",
    "# model_path = './exp/11-27_22-04_SHHB_MCNN_0.0001_[rotate30]/all_ep_200_mae_19.48_mse_30.50.pth'\n",
    "# model_path = './exp/11-28_00-16_SHHB_MCNN_0.0001_[rotate30]/all_ep_200_mae_21.60_mse_33.60.pth'\n",
    "# model_path = './exp/11-28_02-27_SHHB_MCNN_0.0001_[rotate30]/all_ep_200_mae_20.54_mse_31.20.pth'\n",
    "# model_path = './exp/11-28_06-38_SHHB_MCNN_0.0001_[rotate10]/all_ep_170_mae_21.30_mse_35.58.pth'\n",
    "# model_path = './exp/11-28_08-49_SHHB_MCNN_0.0001_[rotate10]/all_ep_200_mae_20.20_mse_34.59.pth'\n",
    "# model_path = './exp/11-28_11-00_SHHB_MCNN_0.0001_[rotate10]/all_ep_172_mae_19.22_mse_36.34.pth'\n",
    "# model_path = './exp/11-28_16-20_SHHB_MCNN_0.0001_[norm]/all_ep_200_mae_33.06_mse_48.00.pth'\n",
    "# model_path = './exp/11-28_17-05_SHHB_MCNN_0.0001_[norm]/all_ep_200_mae_33.05_mse_48.01.pth'\n",
    "# model_path = './exp/11-28_17-51_SHHB_MCNN_0.0001_[norm]/all_ep_200_mae_33.06_mse_48.01.pth'\n",
    "# model_path = './exp/11-28_18-54_SHHB_MCNN_0.0001_[sampleWise]/all_ep_145_mae_40.14_mse_65.59.pth'\n",
    "# model_path = './exp/11-29_04-46_SHHB_MCNN_0.0001_[gray]/all_ep_121_mae_34.20_mse_52.37.pth'\n",
    "# model_path = './exp/11-29_05-24_SHHB_MCNN_0.0001_[gray]/all_ep_121_mae_34.45_mse_54.12.pth'\n",
    "# model_path = './exp/11-29_06-02_SHHB_MCNN_0.0001_[gray]/all_ep_108_mae_35.26_mse_53.38.pth'\n",
    "# model_path = './exp/12-03_05-30_SHHB_MCNN_0.0001_[flip+crop]/all_ep_603_mae_18.77_mse_35.42.pth'\n",
    "# model_path = './exp/12-03_06-54_SHHB_MCNN_0.0001_[cutout5]/all_ep_183_mae_19.09_mse_28.35.pth'\n",
    "# model_path = './exp/12-03_07-40_SHHB_MCNN_0.0001_[cutout5]/all_ep_170_mae_18.66_mse_28.93.pth'\n",
    "# model_path = './exp/12-03_08-25_SHHB_MCNN_0.0001_[cutout5]/all_ep_174_mae_18.79_mse_29.10.pth'\n",
    "# model_path = './exp/12-03_09-11_SHHB_MCNN_0.0001_[FW]/all_ep_179_mae_22.99_mse_38.61.pth'\n",
    "# model_path = './exp/12-03_10-35_SHHB_MCNN_0.0001_[FW]/all_ep_179_mae_23.08_mse_38.69.pth'\n",
    "model_path = './exp/12-03_12-00_SHHB_MCNN_0.0001_[FW]/all_ep_179_mae_23.77_mse_40.57.pth'\n",
    "\n",
    "net = CrowdCounter(cfg.GPU_ID,cfg.NET)\n",
    "net.load_state_dict(torch.load(model_path))\n",
    "net.cuda()\n",
    "net.eval()\n",
    "print(\"Model loaded.\")"
   ]
  },
  {
   "cell_type": "code",
   "execution_count": null,
   "metadata": {},
   "outputs": [],
   "source": [
    "start = 0\n",
    "N = 3\n",
    "\n",
    "for vi, data in enumerate(val_img[start:start+N], 0):\n",
    "    img, gt_map = data\n",
    "\n",
    "    with torch.no_grad():\n",
    "        img = Variable(img).cuda()\n",
    "        pred_map = net.test_forward(img)\n",
    "        pred_map = pred_map.data.cpu().numpy()\n",
    "        \n",
    "    new_img = img.data.cpu().numpy()\n",
    "    new_img = np.moveaxis(new_img, 1, 2)\n",
    "    new_img = np.moveaxis(new_img, 2, 3)\n",
    "    new_img = np.squeeze(new_img)[:,:,::-1]\n",
    "#     new_img = np.squeeze(new_img)[:,::-1]\n",
    "    \n",
    "    pred_cnt = np.sum(pred_map[0])/100.0\n",
    "    gt_count = np.sum(gt_map.data.cpu().numpy())/100.0\n",
    "    \n",
    "    fg, (ax0, ax1, ax2) = plt.subplots(1, 3, figsize=(16, 5))\n",
    "    plt.suptitle(' '.join([\n",
    "            'count_label:', str(round(gt_count, 3)),\n",
    "            'count_prediction:', str(round(pred_cnt, 3))\n",
    "        ]))\n",
    "    ax0.imshow(np.uint8(new_img))\n",
    "#     ax0.imshow(np.uint8(new_img), cmap='gray')\n",
    "    ax1.imshow(np.squeeze(gt_map), cmap='jet')\n",
    "    ax2.imshow(np.squeeze(pred_map), cmap='jet')\n",
    "    plt.show()\n",
    "    \n",
    "#     fg, (ax0, ax1) = plt.subplots(1, 2, figsize=(16, 5))\n",
    "#     plt.suptitle(' '.join([\n",
    "#             'count_label:', str(round(gt_count, 3))\n",
    "#         ]))\n",
    "#     ax0.imshow(np.uint8(new_img))\n",
    "#     ax1.imshow(np.squeeze(gt_map), cmap='jet')\n",
    "#     plt.show()\n",
    "    \n",
    "#     fg.savefig(\"fg.png\")"
   ]
  },
  {
   "cell_type": "code",
   "execution_count": null,
   "metadata": {},
   "outputs": [],
   "source": [
    "mae = np.empty(len(val_img))\n",
    "mse = np.empty(len(val_img))\n",
    "for vi, data in enumerate(tqdm(val_img), 0):\n",
    "    img, gt_map = data\n",
    "\n",
    "    with torch.no_grad():\n",
    "        img = Variable(img).cuda()\n",
    "        pred_map = net.test_forward(img)\n",
    "        pred_map = pred_map.data.cpu().numpy()\n",
    "    \n",
    "    pred_cnt = np.sum(pred_map[0])/100.0\n",
    "    gt_count = np.sum(gt_map.data.cpu().numpy())/100.0\n",
    "    mae[vi] = np.abs(gt_count-pred_cnt)\n",
    "    mse[vi] = (gt_count-pred_cnt)**2\n",
    "    \n",
    "print('MAE:', round(mae.mean(),2))\n",
    "print('MSE:', round(np.sqrt(mse.mean()),2))"
   ]
  },
  {
   "cell_type": "markdown",
   "metadata": {},
   "source": []
  },
  {
   "cell_type": "code",
   "execution_count": null,
   "metadata": {},
   "outputs": [],
   "source": []
  },
  {
   "cell_type": "code",
   "execution_count": null,
   "metadata": {},
   "outputs": [],
   "source": []
  },
  {
   "cell_type": "code",
   "execution_count": null,
   "metadata": {},
   "outputs": [],
   "source": []
  },
  {
   "cell_type": "code",
   "execution_count": null,
   "metadata": {},
   "outputs": [],
   "source": []
  },
  {
   "cell_type": "code",
   "execution_count": null,
   "metadata": {},
   "outputs": [],
   "source": []
  },
  {
   "cell_type": "code",
   "execution_count": null,
   "metadata": {},
   "outputs": [],
   "source": []
  },
  {
   "cell_type": "code",
   "execution_count": null,
   "metadata": {},
   "outputs": [],
   "source": []
  },
  {
   "cell_type": "code",
   "execution_count": null,
   "metadata": {},
   "outputs": [],
   "source": []
  },
  {
   "cell_type": "code",
   "execution_count": null,
   "metadata": {},
   "outputs": [],
   "source": []
  },
  {
   "cell_type": "code",
   "execution_count": null,
   "metadata": {},
   "outputs": [],
   "source": []
  },
  {
   "cell_type": "code",
   "execution_count": null,
   "metadata": {},
   "outputs": [],
   "source": []
  },
  {
   "cell_type": "code",
   "execution_count": null,
   "metadata": {},
   "outputs": [],
   "source": []
  },
  {
   "cell_type": "code",
   "execution_count": null,
   "metadata": {},
   "outputs": [],
   "source": []
  },
  {
   "cell_type": "code",
   "execution_count": null,
   "metadata": {},
   "outputs": [],
   "source": []
  },
  {
   "cell_type": "code",
   "execution_count": null,
   "metadata": {},
   "outputs": [],
   "source": []
  },
  {
   "cell_type": "code",
   "execution_count": null,
   "metadata": {},
   "outputs": [],
   "source": []
  },
  {
   "cell_type": "code",
   "execution_count": null,
   "metadata": {},
   "outputs": [],
   "source": []
  },
  {
   "cell_type": "code",
   "execution_count": null,
   "metadata": {},
   "outputs": [],
   "source": []
  },
  {
   "cell_type": "code",
   "execution_count": null,
   "metadata": {},
   "outputs": [],
   "source": []
  },
  {
   "cell_type": "code",
   "execution_count": null,
   "metadata": {},
   "outputs": [],
   "source": []
  },
  {
   "cell_type": "code",
   "execution_count": null,
   "metadata": {},
   "outputs": [],
   "source": []
  },
  {
   "cell_type": "code",
   "execution_count": null,
   "metadata": {},
   "outputs": [],
   "source": []
  },
  {
   "cell_type": "markdown",
   "metadata": {},
   "source": [
    "## Parameters for featurewise standarization"
   ]
  },
  {
   "cell_type": "code",
   "execution_count": 3,
   "metadata": {},
   "outputs": [],
   "source": [
    "import CCAugmentation as cca\n",
    "from datasets.SHHB.setting import cfg_data\n",
    "from load_data import CustomDataset\n",
    "import CCAugmentation.transformations as ccat\n",
    "import numpy as np\n",
    "from tqdm import tqdm_notebook\n",
    "import tqdm"
   ]
  },
  {
   "cell_type": "code",
   "execution_count": 8,
   "metadata": {
    "collapsed": true,
    "jupyter": {
     "outputs_hidden": true
    }
   },
   "outputs": [
    {
     "name": "stderr",
     "output_type": "stream",
     "text": [
      "\n",
      "\n",
      "  0%|          | 0/400 [00:00<?, ?it/s]\u001b[A\u001b[A\n",
      "\n",
      "  2%|▏         | 7/400 [00:00<00:05, 66.26it/s]\u001b[A\u001b[A\n",
      "\n",
      "  4%|▎         | 14/400 [00:00<00:05, 67.21it/s]\u001b[A\u001b[A\n",
      "\n",
      "  5%|▌         | 21/400 [00:00<00:05, 67.41it/s]\u001b[A\u001b[A\n",
      "\n",
      "  7%|▋         | 28/400 [00:00<00:05, 67.73it/s]\u001b[A\u001b[A\n",
      "\n",
      "  9%|▉         | 35/400 [00:00<00:05, 68.32it/s]\u001b[A\u001b[A\n",
      "\n",
      " 10%|█         | 42/400 [00:00<00:05, 68.19it/s]\u001b[A\u001b[A\n",
      "\n",
      " 12%|█▏        | 49/400 [00:00<00:05, 68.17it/s]\u001b[A\u001b[A\n",
      "\n",
      " 14%|█▍        | 56/400 [00:00<00:05, 67.67it/s]\u001b[A\u001b[A\n",
      "\n",
      " 16%|█▌        | 63/400 [00:00<00:05, 67.40it/s]\u001b[A\u001b[A\n",
      "\n",
      " 18%|█▊        | 71/400 [00:01<00:04, 67.73it/s]\u001b[A\u001b[A\n",
      "\n",
      " 20%|█▉        | 78/400 [00:01<00:04, 67.75it/s]\u001b[A\u001b[A\n",
      "\n",
      " 21%|██▏       | 85/400 [00:01<00:04, 67.83it/s]\u001b[A\u001b[A\n",
      "\n",
      " 23%|██▎       | 92/400 [00:01<00:04, 68.05it/s]\u001b[A\u001b[A\n",
      "\n",
      " 25%|██▍       | 99/400 [00:01<00:04, 67.52it/s]\u001b[A\u001b[A\n",
      "\n",
      " 26%|██▋       | 106/400 [00:01<00:04, 66.10it/s]\u001b[A\u001b[A\n",
      "\n",
      " 28%|██▊       | 113/400 [00:01<00:04, 67.00it/s]\u001b[A\u001b[A\n",
      "\n",
      " 30%|███       | 120/400 [00:01<00:04, 67.09it/s]\u001b[A\u001b[A\n",
      "\n",
      " 32%|███▏      | 127/400 [00:01<00:04, 67.43it/s]\u001b[A\u001b[A\n",
      "\n",
      " 34%|███▎      | 134/400 [00:01<00:03, 68.08it/s]\u001b[A\u001b[A\n",
      "\n",
      " 35%|███▌      | 141/400 [00:02<00:03, 66.75it/s]\u001b[A\u001b[A\n",
      "\n",
      " 37%|███▋      | 148/400 [00:02<00:03, 66.20it/s]\u001b[A\u001b[A\n",
      "\n",
      " 39%|███▉      | 156/400 [00:02<00:03, 67.86it/s]\u001b[A\u001b[A\n",
      "\n",
      " 41%|████      | 163/400 [00:02<00:03, 68.35it/s]\u001b[A\u001b[A\n",
      "\n",
      " 42%|████▎     | 170/400 [00:02<00:03, 68.60it/s]\u001b[A\u001b[A\n",
      "\n",
      " 44%|████▍     | 178/400 [00:02<00:03, 68.79it/s]\u001b[A\u001b[A\n",
      "\n",
      " 46%|████▋     | 186/400 [00:02<00:03, 70.00it/s]\u001b[A\u001b[A\n",
      "\n",
      " 48%|████▊     | 194/400 [00:02<00:02, 69.64it/s]\u001b[A\u001b[A\n",
      "\n",
      " 50%|█████     | 202/400 [00:02<00:02, 69.84it/s]\u001b[A\u001b[A\n",
      "\n",
      " 52%|█████▏    | 209/400 [00:03<00:02, 69.12it/s]\u001b[A\u001b[A\n",
      "\n",
      " 54%|█████▍    | 217/400 [00:03<00:02, 70.29it/s]\u001b[A\u001b[A\n",
      "\n",
      " 56%|█████▋    | 225/400 [00:03<00:02, 69.11it/s]\u001b[A\u001b[A\n",
      "\n",
      " 58%|█████▊    | 232/400 [00:03<00:02, 68.51it/s]\u001b[A\u001b[A\n",
      "\n",
      " 60%|██████    | 240/400 [00:03<00:02, 69.32it/s]\u001b[A\u001b[A\n",
      "\n",
      " 62%|██████▏   | 247/400 [00:03<00:02, 69.26it/s]\u001b[A\u001b[A\n",
      "\n",
      " 64%|██████▍   | 255/400 [00:03<00:02, 69.99it/s]\u001b[A\u001b[A\n",
      "\n",
      " 66%|██████▌   | 263/400 [00:03<00:01, 69.59it/s]\u001b[A\u001b[A\n",
      "\n",
      " 68%|██████▊   | 271/400 [00:03<00:01, 69.91it/s]\u001b[A\u001b[A\n",
      "\n",
      " 70%|██████▉   | 278/400 [00:04<00:01, 68.85it/s]\u001b[A\u001b[A\n",
      "\n",
      " 71%|███████▏  | 285/400 [00:04<00:01, 69.19it/s]\u001b[A\u001b[A\n",
      "\n",
      " 73%|███████▎  | 293/400 [00:04<00:01, 69.93it/s]\u001b[A\u001b[A\n",
      "\n",
      " 75%|███████▌  | 301/400 [00:04<00:01, 70.23it/s]\u001b[A\u001b[A\n",
      "\n",
      " 77%|███████▋  | 309/400 [00:04<00:01, 70.89it/s]\u001b[A\u001b[A\n",
      "\n",
      " 79%|███████▉  | 317/400 [00:04<00:01, 71.07it/s]\u001b[A\u001b[A\n",
      "\n",
      " 81%|████████▏ | 325/400 [00:04<00:01, 70.71it/s]\u001b[A\u001b[A\n",
      "\n",
      " 83%|████████▎ | 333/400 [00:04<00:00, 70.96it/s]\u001b[A\u001b[A\n",
      "\n",
      " 85%|████████▌ | 341/400 [00:04<00:00, 70.42it/s]\u001b[A\u001b[A\n",
      "\n",
      " 87%|████████▋ | 349/400 [00:05<00:00, 69.49it/s]\u001b[A\u001b[A\n",
      "\n",
      " 89%|████████▉ | 356/400 [00:05<00:00, 69.17it/s]\u001b[A\u001b[A\n",
      "\n",
      " 91%|█████████ | 363/400 [00:05<00:00, 69.39it/s]\u001b[A\u001b[A\n",
      "\n",
      " 93%|█████████▎| 371/400 [00:05<00:00, 69.76it/s]\u001b[A\u001b[A\n",
      "\n",
      " 95%|█████████▍| 379/400 [00:05<00:00, 70.39it/s]\u001b[A\u001b[A\n",
      "\n",
      " 97%|█████████▋| 387/400 [00:05<00:00, 71.53it/s]\u001b[A\u001b[A\n",
      "\n",
      "100%|██████████| 400/400 [01:05<00:00,  6.13it/s]\u001b[A\u001b[A\n"
     ]
    }
   ],
   "source": [
    "imgs, _ = cca.Pipeline(\n",
    "        cca.examples.loading.SHHLoader(\"/dataset/ShanghaiTech\", \"train\", \"B\"), [\n",
    "            ccat.Normalize(\"range_0_to_1\")\n",
    "        ]\n",
    "    ).execute_collect()"
   ]
  },
  {
   "cell_type": "code",
   "execution_count": 9,
   "metadata": {},
   "outputs": [
    {
     "name": "stdout",
     "output_type": "stream",
     "text": [
      "0.44337569764081153\n",
      "0.2312020086228266\n",
      "[0.43153972 0.44694245 0.45164492]\n"
     ]
    },
    {
     "name": "stderr",
     "output_type": "stream",
     "text": [
      "\n",
      "\n",
      "100%|██████████| 400/400 [00:21<00:00, 72.12it/s]\u001b[A\u001b[A"
     ]
    },
    {
     "name": "stdout",
     "output_type": "stream",
     "text": [
      "[0.22612214 0.22956612 0.23729746]\n"
     ]
    }
   ],
   "source": [
    "print(np.mean(imgs))\n",
    "print(np.std(imgs))\n",
    "print(np.mean(imgs, (0, 1, 2)))\n",
    "print(np.std(imgs, (0, 1, 2)))"
   ]
  },
  {
   "cell_type": "code",
   "execution_count": null,
   "metadata": {},
   "outputs": [],
   "source": [
    "imgs, _ = cca.Pipeline(\n",
    "        cca.examples.loading.SHHLoader(\"/dataset/ShanghaiTech\", \"train\", \"B\"), [\n",
    "        ]\n",
    "    ).execute_collect()"
   ]
  },
  {
   "cell_type": "code",
   "execution_count": 6,
   "metadata": {},
   "outputs": [
    {
     "name": "stdout",
     "output_type": "stream",
     "text": [
      "113.06080289840698\n",
      "58.956512198820526\n",
      "[110.0426287  113.97032411 115.16945588]\n",
      "[57.66114641 58.53936174 60.51085266]\n"
     ]
    }
   ],
   "source": [
    "print(np.mean(imgs))\n",
    "print(np.std(imgs))\n",
    "print(np.mean(imgs, (0, 1, 2)))\n",
    "print(np.std(imgs, (0, 1, 2)))"
   ]
  },
  {
   "cell_type": "code",
   "execution_count": null,
   "metadata": {},
   "outputs": [],
   "source": []
  },
  {
   "cell_type": "code",
   "execution_count": null,
   "metadata": {},
   "outputs": [],
   "source": []
  }
 ],
 "metadata": {
  "kernelspec": {
   "display_name": "Python 3",
   "language": "python",
   "name": "python3"
  },
  "language_info": {
   "codemirror_mode": {
    "name": "ipython",
    "version": 3
   },
   "file_extension": ".py",
   "mimetype": "text/x-python",
   "name": "python",
   "nbconvert_exporter": "python",
   "pygments_lexer": "ipython3",
   "version": "3.8.5"
  }
 },
 "nbformat": 4,
 "nbformat_minor": 4
}
